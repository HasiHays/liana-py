{
 "cells": [
  {
   "cell_type": "code",
   "execution_count": 1,
   "metadata": {},
   "outputs": [],
   "source": [
    "import os\n",
    "import numpy as np\n",
    "import pandas as pd\n",
    "import scanpy as sc\n",
    "# import squidpy as sq\n",
    "\n",
    "from scipy.spatial import cKDTree\n",
    "import mudata as mu\n",
    "\n",
    "import spatialdata as sd\n",
    "import anndata as an"
   ]
  },
  {
   "cell_type": "code",
   "execution_count": 2,
   "metadata": {},
   "outputs": [],
   "source": [
    "## load slide\n",
    "slide = \"B1\"\n",
    "exp = \"V11L12-109\" # V11T17-102 V11L12-109 V11T16-085\n",
    "key = f\"{exp}_{slide}\"\n",
    "slide_path = f\"data/VicariEtAl/sma/{exp}/{key}/output_data\""
   ]
  },
  {
   "cell_type": "code",
   "execution_count": 3,
   "metadata": {},
   "outputs": [
    {
     "name": "stderr",
     "output_type": "stream",
     "text": [
      "/home/dbdimitrov/anaconda3/envs/spatialdata/lib/python3.10/site-packages/anndata/_core/anndata.py:522: FutureWarning: The dtype argument is deprecated and will be removed in late 2024.\n",
      "  warnings.warn(\n",
      "/home/dbdimitrov/anaconda3/envs/spatialdata/lib/python3.10/site-packages/anndata/_core/anndata.py:522: FutureWarning: The dtype argument is deprecated and will be removed in late 2024.\n",
      "  warnings.warn(\n",
      "/home/dbdimitrov/anaconda3/envs/spatialdata/lib/python3.10/site-packages/anndata/_core/anndata.py:1900: UserWarning: Variable names are not unique. To make them unique, call `.var_names_make_unique`.\n",
      "  utils.warn_names_duplicates(\"var\")\n",
      "/home/dbdimitrov/anaconda3/envs/spatialdata/lib/python3.10/site-packages/mudata/_core/mudata.py:479: UserWarning: var_names are not unique. To make them unique, call `.var_names_make_unique`.\n",
      "  warnings.warn(\n"
     ]
    }
   ],
   "source": [
    "mdata = mu.read_h5mu(os.path.join(slide_path, \"sma.h5mu\"))\n",
    "rna = mdata.mod[\"rna\"]\n",
    "msi = mdata.mod[\"msi\"]"
   ]
  },
  {
   "cell_type": "code",
   "execution_count": 4,
   "metadata": {},
   "outputs": [],
   "source": [
    "rna_pos = rna.obsm['spatial'].copy()\n",
    "msi_pos = msi.obsm['spatial'].copy()"
   ]
  },
  {
   "cell_type": "code",
   "execution_count": null,
   "metadata": {},
   "outputs": [],
   "source": []
  },
  {
   "cell_type": "code",
   "execution_count": 5,
   "metadata": {},
   "outputs": [],
   "source": [
    "from spatialdata.models import TableModel, ShapesModel\n",
    "from anndata import AnnData\n",
    "import numpy as np\n",
    "from spatialdata import SpatialData"
   ]
  },
  {
   "cell_type": "code",
   "execution_count": 6,
   "metadata": {},
   "outputs": [],
   "source": [
    "# shapes \n",
    "rna_locations = ShapesModel.parse(rna_pos, geometry=0, radius=1)\n",
    "msi_locations = ShapesModel.parse(msi_pos, geometry=0, radius=1)"
   ]
  },
  {
   "attachments": {},
   "cell_type": "markdown",
   "metadata": {},
   "source": [
    "try spatialdata with multiple anndatas"
   ]
  },
  {
   "cell_type": "code",
   "execution_count": 7,
   "metadata": {},
   "outputs": [],
   "source": [
    "del msi.varm['PCs']"
   ]
  },
  {
   "cell_type": "code",
   "execution_count": 8,
   "metadata": {},
   "outputs": [
    {
     "name": "stderr",
     "output_type": "stream",
     "text": [
      "/home/dbdimitrov/anaconda3/envs/spatialdata/lib/python3.10/site-packages/anndata/_core/anndata.py:1900: UserWarning: Variable names are not unique. To make them unique, call `.var_names_make_unique`.\n",
      "  utils.warn_names_duplicates(\"var\")\n"
     ]
    }
   ],
   "source": [
    "adata = an.concat([rna, msi], join='outer', axis=1, label='modality')\n",
    "adata.var_names_make_unique()"
   ]
  },
  {
   "cell_type": "code",
   "execution_count": null,
   "metadata": {},
   "outputs": [],
   "source": []
  },
  {
   "cell_type": "code",
   "execution_count": 9,
   "metadata": {},
   "outputs": [],
   "source": [
    "adata.obs['region'] = (['msi'] * msi_pos.shape[0] + ['rna'] * rna_pos.shape[0]).copy()\n",
    "adata.obs['instance_id'] = adata.obs.index"
   ]
  },
  {
   "cell_type": "code",
   "execution_count": 10,
   "metadata": {},
   "outputs": [
    {
     "data": {
      "text/html": [
       "<div>\n",
       "<style scoped>\n",
       "    .dataframe tbody tr th:only-of-type {\n",
       "        vertical-align: middle;\n",
       "    }\n",
       "\n",
       "    .dataframe tbody tr th {\n",
       "        vertical-align: top;\n",
       "    }\n",
       "\n",
       "    .dataframe thead th {\n",
       "        text-align: right;\n",
       "    }\n",
       "</style>\n",
       "<table border=\"1\" class=\"dataframe\">\n",
       "  <thead>\n",
       "    <tr style=\"text-align: right;\">\n",
       "      <th></th>\n",
       "      <th>region</th>\n",
       "      <th>instance_id</th>\n",
       "    </tr>\n",
       "  </thead>\n",
       "  <tbody>\n",
       "    <tr>\n",
       "      <th>1000</th>\n",
       "      <td>msi</td>\n",
       "      <td>1000</td>\n",
       "    </tr>\n",
       "    <tr>\n",
       "      <th>1001</th>\n",
       "      <td>msi</td>\n",
       "      <td>1001</td>\n",
       "    </tr>\n",
       "    <tr>\n",
       "      <th>1002</th>\n",
       "      <td>msi</td>\n",
       "      <td>1002</td>\n",
       "    </tr>\n",
       "    <tr>\n",
       "      <th>1003</th>\n",
       "      <td>msi</td>\n",
       "      <td>1003</td>\n",
       "    </tr>\n",
       "    <tr>\n",
       "      <th>1004</th>\n",
       "      <td>msi</td>\n",
       "      <td>1004</td>\n",
       "    </tr>\n",
       "    <tr>\n",
       "      <th>...</th>\n",
       "      <td>...</td>\n",
       "      <td>...</td>\n",
       "    </tr>\n",
       "    <tr>\n",
       "      <th>TTGTTCAGTGTGCTAC-1</th>\n",
       "      <td>rna</td>\n",
       "      <td>TTGTTCAGTGTGCTAC-1</td>\n",
       "    </tr>\n",
       "    <tr>\n",
       "      <th>TTGTTCTAGATACGCT-1</th>\n",
       "      <td>rna</td>\n",
       "      <td>TTGTTCTAGATACGCT-1</td>\n",
       "    </tr>\n",
       "    <tr>\n",
       "      <th>TTGTTGTGTGTCAAGA-1</th>\n",
       "      <td>rna</td>\n",
       "      <td>TTGTTGTGTGTCAAGA-1</td>\n",
       "    </tr>\n",
       "    <tr>\n",
       "      <th>TTGTTTCCATACAACT-1</th>\n",
       "      <td>rna</td>\n",
       "      <td>TTGTTTCCATACAACT-1</td>\n",
       "    </tr>\n",
       "    <tr>\n",
       "      <th>TTGTTTGTGTAAATTC-1</th>\n",
       "      <td>rna</td>\n",
       "      <td>TTGTTTGTGTAAATTC-1</td>\n",
       "    </tr>\n",
       "  </tbody>\n",
       "</table>\n",
       "<p>6125 rows × 2 columns</p>\n",
       "</div>"
      ],
      "text/plain": [
       "                   region         instance_id\n",
       "1000                  msi                1000\n",
       "1001                  msi                1001\n",
       "1002                  msi                1002\n",
       "1003                  msi                1003\n",
       "1004                  msi                1004\n",
       "...                   ...                 ...\n",
       "TTGTTCAGTGTGCTAC-1    rna  TTGTTCAGTGTGCTAC-1\n",
       "TTGTTCTAGATACGCT-1    rna  TTGTTCTAGATACGCT-1\n",
       "TTGTTGTGTGTCAAGA-1    rna  TTGTTGTGTGTCAAGA-1\n",
       "TTGTTTCCATACAACT-1    rna  TTGTTTCCATACAACT-1\n",
       "TTGTTTGTGTAAATTC-1    rna  TTGTTTGTGTAAATTC-1\n",
       "\n",
       "[6125 rows x 2 columns]"
      ]
     },
     "execution_count": 10,
     "metadata": {},
     "output_type": "execute_result"
    }
   ],
   "source": [
    "adata.obs"
   ]
  },
  {
   "cell_type": "code",
   "execution_count": 11,
   "metadata": {},
   "outputs": [
    {
     "name": "stderr",
     "output_type": "stream",
     "text": [
      "/home/dbdimitrov/anaconda3/envs/spatialdata/lib/python3.10/site-packages/spatialdata/models/models.py:725: FutureWarning: is_categorical_dtype is deprecated and will be removed in a future version. Use isinstance(dtype, CategoricalDtype) instead\n",
      "  if not is_categorical_dtype(adata.obs[region_key]):\n",
      "/tmp/ipykernel_17068/1232050206.py:1: UserWarning: Converting `region_key: region` to categorical dtype.\n",
      "  adata = TableModel.parse(adata, region=['msi', 'rna'], region_key='region', instance_key='instance_id')\n"
     ]
    }
   ],
   "source": [
    "adata = TableModel.parse(adata, region=['msi', 'rna'], region_key='region', instance_key='instance_id')\n",
    "sdata = SpatialData(shapes={'msi':msi_locations, 'rna':rna_locations},\n",
    "                    table=adata,\n",
    "                    # TODO: add images (need to read visium as sdata - would be easiest)\n",
    "                    #                 images={\n",
    "                    #     \"CytAssist_FFPE_Human_Breast_Cancer_full_image\": rna.uns['spatial'][key]['images']['hires']\n",
    "                    # # },\n",
    "                    )"
   ]
  },
  {
   "cell_type": "code",
   "execution_count": 12,
   "metadata": {},
   "outputs": [
    {
     "data": {
      "text/plain": [
       "SpatialData object with:\n",
       "├── Shapes\n",
       "│     ├── 'msi': GeoDataFrame shape: (3005, 2) (2D shapes)\n",
       "│     └── 'rna': GeoDataFrame shape: (3120, 2) (2D shapes)\n",
       "└── Table\n",
       "      └── AnnData object with n_obs × n_vars = 6125 × 33823\n",
       "    obs: 'region', 'instance_id'\n",
       "    var: 'gene_ids', 'feature_types', 'genome', 'mean', 'std', 'modality'\n",
       "    uns: 'spatialdata_attrs': AnnData (6125, 33823)\n",
       "with coordinate systems:\n",
       "▸ 'global', with elements:\n",
       "        msi (Shapes), rna (Shapes)"
      ]
     },
     "execution_count": 12,
     "metadata": {},
     "output_type": "execute_result"
    }
   ],
   "source": [
    "sdata"
   ]
  },
  {
   "cell_type": "code",
   "execution_count": 15,
   "metadata": {},
   "outputs": [
    {
     "data": {
      "text/html": [
       "<div>\n",
       "<style scoped>\n",
       "    .dataframe tbody tr th:only-of-type {\n",
       "        vertical-align: middle;\n",
       "    }\n",
       "\n",
       "    .dataframe tbody tr th {\n",
       "        vertical-align: top;\n",
       "    }\n",
       "\n",
       "    .dataframe thead th {\n",
       "        text-align: right;\n",
       "    }\n",
       "</style>\n",
       "<table border=\"1\" class=\"dataframe\">\n",
       "  <thead>\n",
       "    <tr style=\"text-align: right;\">\n",
       "      <th></th>\n",
       "      <th>geometry</th>\n",
       "      <th>radius</th>\n",
       "    </tr>\n",
       "  </thead>\n",
       "  <tbody>\n",
       "    <tr>\n",
       "      <th>0</th>\n",
       "      <td>POINT (34740.000 30651.000)</td>\n",
       "      <td>1</td>\n",
       "    </tr>\n",
       "    <tr>\n",
       "      <th>1</th>\n",
       "      <td>POINT (7784.000 27046.000)</td>\n",
       "      <td>1</td>\n",
       "    </tr>\n",
       "    <tr>\n",
       "      <th>2</th>\n",
       "      <td>POINT (33275.000 36197.000)</td>\n",
       "      <td>1</td>\n",
       "    </tr>\n",
       "    <tr>\n",
       "      <th>3</th>\n",
       "      <td>POINT (38516.000 28139.000)</td>\n",
       "      <td>1</td>\n",
       "    </tr>\n",
       "    <tr>\n",
       "      <th>4</th>\n",
       "      <td>POINT (41113.000 32686.000)</td>\n",
       "      <td>1</td>\n",
       "    </tr>\n",
       "    <tr>\n",
       "      <th>...</th>\n",
       "      <td>...</td>\n",
       "      <td>...</td>\n",
       "    </tr>\n",
       "    <tr>\n",
       "      <th>3115</th>\n",
       "      <td>POINT (23757.000 17504.000)</td>\n",
       "      <td>1</td>\n",
       "    </tr>\n",
       "    <tr>\n",
       "      <th>3116</th>\n",
       "      <td>POINT (6074.000 15942.000)</td>\n",
       "      <td>1</td>\n",
       "    </tr>\n",
       "    <tr>\n",
       "      <th>3117</th>\n",
       "      <td>POINT (27517.000 21045.000)</td>\n",
       "      <td>1</td>\n",
       "    </tr>\n",
       "    <tr>\n",
       "      <th>3118</th>\n",
       "      <td>POINT (13000.000 28069.000)</td>\n",
       "      <td>1</td>\n",
       "    </tr>\n",
       "    <tr>\n",
       "      <th>3119</th>\n",
       "      <td>POINT (20011.000 8917.000)</td>\n",
       "      <td>1</td>\n",
       "    </tr>\n",
       "  </tbody>\n",
       "</table>\n",
       "<p>3120 rows × 2 columns</p>\n",
       "</div>"
      ],
      "text/plain": [
       "                         geometry  radius\n",
       "0     POINT (34740.000 30651.000)       1\n",
       "1      POINT (7784.000 27046.000)       1\n",
       "2     POINT (33275.000 36197.000)       1\n",
       "3     POINT (38516.000 28139.000)       1\n",
       "4     POINT (41113.000 32686.000)       1\n",
       "...                           ...     ...\n",
       "3115  POINT (23757.000 17504.000)       1\n",
       "3116   POINT (6074.000 15942.000)       1\n",
       "3117  POINT (27517.000 21045.000)       1\n",
       "3118  POINT (13000.000 28069.000)       1\n",
       "3119   POINT (20011.000 8917.000)       1\n",
       "\n",
       "[3120 rows x 2 columns]"
      ]
     },
     "execution_count": 15,
     "metadata": {},
     "output_type": "execute_result"
    }
   ],
   "source": [
    "sdata.shapes['rna']"
   ]
  },
  {
   "cell_type": "code",
   "execution_count": null,
   "metadata": {},
   "outputs": [],
   "source": []
  },
  {
   "cell_type": "code",
   "execution_count": 18,
   "metadata": {},
   "outputs": [
    {
     "data": {
      "text/html": [
       "<div>\n",
       "<style scoped>\n",
       "    .dataframe tbody tr th:only-of-type {\n",
       "        vertical-align: middle;\n",
       "    }\n",
       "\n",
       "    .dataframe tbody tr th {\n",
       "        vertical-align: top;\n",
       "    }\n",
       "\n",
       "    .dataframe thead th {\n",
       "        text-align: right;\n",
       "    }\n",
       "</style>\n",
       "<table border=\"1\" class=\"dataframe\">\n",
       "  <thead>\n",
       "    <tr style=\"text-align: right;\">\n",
       "      <th></th>\n",
       "      <th>region</th>\n",
       "      <th>instance_id</th>\n",
       "    </tr>\n",
       "  </thead>\n",
       "  <tbody>\n",
       "    <tr>\n",
       "      <th>1000</th>\n",
       "      <td>msi</td>\n",
       "      <td>1000</td>\n",
       "    </tr>\n",
       "    <tr>\n",
       "      <th>1001</th>\n",
       "      <td>msi</td>\n",
       "      <td>1001</td>\n",
       "    </tr>\n",
       "    <tr>\n",
       "      <th>1002</th>\n",
       "      <td>msi</td>\n",
       "      <td>1002</td>\n",
       "    </tr>\n",
       "    <tr>\n",
       "      <th>1003</th>\n",
       "      <td>msi</td>\n",
       "      <td>1003</td>\n",
       "    </tr>\n",
       "    <tr>\n",
       "      <th>1004</th>\n",
       "      <td>msi</td>\n",
       "      <td>1004</td>\n",
       "    </tr>\n",
       "    <tr>\n",
       "      <th>...</th>\n",
       "      <td>...</td>\n",
       "      <td>...</td>\n",
       "    </tr>\n",
       "    <tr>\n",
       "      <th>TTGTTCAGTGTGCTAC-1</th>\n",
       "      <td>rna</td>\n",
       "      <td>TTGTTCAGTGTGCTAC-1</td>\n",
       "    </tr>\n",
       "    <tr>\n",
       "      <th>TTGTTCTAGATACGCT-1</th>\n",
       "      <td>rna</td>\n",
       "      <td>TTGTTCTAGATACGCT-1</td>\n",
       "    </tr>\n",
       "    <tr>\n",
       "      <th>TTGTTGTGTGTCAAGA-1</th>\n",
       "      <td>rna</td>\n",
       "      <td>TTGTTGTGTGTCAAGA-1</td>\n",
       "    </tr>\n",
       "    <tr>\n",
       "      <th>TTGTTTCCATACAACT-1</th>\n",
       "      <td>rna</td>\n",
       "      <td>TTGTTTCCATACAACT-1</td>\n",
       "    </tr>\n",
       "    <tr>\n",
       "      <th>TTGTTTGTGTAAATTC-1</th>\n",
       "      <td>rna</td>\n",
       "      <td>TTGTTTGTGTAAATTC-1</td>\n",
       "    </tr>\n",
       "  </tbody>\n",
       "</table>\n",
       "<p>6125 rows × 2 columns</p>\n",
       "</div>"
      ],
      "text/plain": [
       "                   region         instance_id\n",
       "1000                  msi                1000\n",
       "1001                  msi                1001\n",
       "1002                  msi                1002\n",
       "1003                  msi                1003\n",
       "1004                  msi                1004\n",
       "...                   ...                 ...\n",
       "TTGTTCAGTGTGCTAC-1    rna  TTGTTCAGTGTGCTAC-1\n",
       "TTGTTCTAGATACGCT-1    rna  TTGTTCTAGATACGCT-1\n",
       "TTGTTGTGTGTCAAGA-1    rna  TTGTTGTGTGTCAAGA-1\n",
       "TTGTTTCCATACAACT-1    rna  TTGTTTCCATACAACT-1\n",
       "TTGTTTGTGTAAATTC-1    rna  TTGTTTGTGTAAATTC-1\n",
       "\n",
       "[6125 rows x 2 columns]"
      ]
     },
     "execution_count": 18,
     "metadata": {},
     "output_type": "execute_result"
    }
   ],
   "source": [
    "sdata.table.obs"
   ]
  },
  {
   "cell_type": "code",
   "execution_count": null,
   "metadata": {},
   "outputs": [],
   "source": []
  },
  {
   "attachments": {},
   "cell_type": "markdown",
   "metadata": {},
   "source": [
    "Try as MuData"
   ]
  },
  {
   "cell_type": "code",
   "execution_count": 19,
   "metadata": {},
   "outputs": [
    {
     "data": {
      "text/plain": [
       "SpatialData object with:\n",
       "├── Shapes\n",
       "│     ├── 'msi': GeoDataFrame shape: (3005, 2) (2D shapes)\n",
       "│     └── 'rna': GeoDataFrame shape: (3120, 2) (2D shapes)\n",
       "└── Table\n",
       "      └── AnnData object with n_obs × n_vars = 6125 × 33823\n",
       "    obs: 'region', 'instance_id'\n",
       "    var: 'gene_ids', 'feature_types', 'genome', 'mean', 'std', 'modality'\n",
       "    uns: 'spatialdata_attrs': AnnData (6125, 33823)\n",
       "with coordinate systems:\n",
       "▸ 'global', with elements:\n",
       "        msi (Shapes), rna (Shapes)"
      ]
     },
     "execution_count": 19,
     "metadata": {},
     "output_type": "execute_result"
    }
   ],
   "source": [
    "sdata"
   ]
  },
  {
   "cell_type": "code",
   "execution_count": null,
   "metadata": {},
   "outputs": [],
   "source": [
    "sdata = SpatialData(shapes={'msi':msi_locations, 'rna':rna_locations},\n",
    "                    table=adata,\n",
    "                    # TODO: add images (need to read visium as sdata - would be easiest)\n",
    "                    #                 images={\n",
    "                    #     \"CytAssist_FFPE_Human_Breast_Cancer_full_image\": rna.uns['spatial'][key]['images']['hires']\n",
    "                    # # },\n",
    "                    )"
   ]
  }
 ],
 "metadata": {
  "kernelspec": {
   "display_name": "spatialdata",
   "language": "python",
   "name": "python3"
  },
  "language_info": {
   "codemirror_mode": {
    "name": "ipython",
    "version": 3
   },
   "file_extension": ".py",
   "mimetype": "text/x-python",
   "name": "python",
   "nbconvert_exporter": "python",
   "pygments_lexer": "ipython3",
   "version": "3.10.12"
  },
  "orig_nbformat": 4
 },
 "nbformat": 4,
 "nbformat_minor": 2
}
