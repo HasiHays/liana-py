{
 "cells": [
  {
   "cell_type": "code",
   "execution_count": 12,
   "metadata": {},
   "outputs": [],
   "source": [
    "import os\n",
    "import numpy as np\n",
    "import pandas as pd\n",
    "import scanpy as sc\n",
    "# import squidpy as sq\n",
    "\n",
    "from scipy.spatial import cKDTree\n",
    "# import muon as mu\n",
    "import mudata as mu\n",
    "\n",
    "import spatialdata as sd"
   ]
  },
  {
   "cell_type": "code",
   "execution_count": 2,
   "metadata": {},
   "outputs": [],
   "source": [
    "## load slide\n",
    "slide = \"B1\"\n",
    "exp = \"V11L12-109\" # V11T17-102 V11L12-109 V11T16-085\n",
    "slide_path = f\"data/VicariEtAl/sma/{exp}/{exp}_{slide}/output_data\""
   ]
  },
  {
   "cell_type": "code",
   "execution_count": 3,
   "metadata": {},
   "outputs": [
    {
     "name": "stderr",
     "output_type": "stream",
     "text": [
      "/home/dbdimitrov/anaconda3/envs/spatialdata/lib/python3.10/site-packages/anndata/_core/anndata.py:522: FutureWarning: The dtype argument is deprecated and will be removed in late 2024.\n",
      "  warnings.warn(\n",
      "/home/dbdimitrov/anaconda3/envs/spatialdata/lib/python3.10/site-packages/anndata/_core/anndata.py:522: FutureWarning: The dtype argument is deprecated and will be removed in late 2024.\n",
      "  warnings.warn(\n",
      "/home/dbdimitrov/anaconda3/envs/spatialdata/lib/python3.10/site-packages/anndata/_core/anndata.py:1900: UserWarning: Variable names are not unique. To make them unique, call `.var_names_make_unique`.\n",
      "  utils.warn_names_duplicates(\"var\")\n",
      "/home/dbdimitrov/anaconda3/envs/spatialdata/lib/python3.10/site-packages/mudata/_core/mudata.py:479: UserWarning: var_names are not unique. To make them unique, call `.var_names_make_unique`.\n",
      "  warnings.warn(\n"
     ]
    }
   ],
   "source": [
    "mdata = mu.read_h5mu(os.path.join(slide_path, \"sma.h5mu\"))\n",
    "rna = mdata.mod[\"rna\"]\n",
    "msi = mdata.mod[\"msi\"]"
   ]
  },
  {
   "cell_type": "code",
   "execution_count": 4,
   "metadata": {},
   "outputs": [],
   "source": [
    "rna_pos = rna.obsm['spatial'].copy()\n",
    "msi_pos = msi.obsm['spatial'].copy()"
   ]
  },
  {
   "cell_type": "code",
   "execution_count": null,
   "metadata": {},
   "outputs": [],
   "source": []
  },
  {
   "attachments": {},
   "cell_type": "markdown",
   "metadata": {},
   "source": [
    "try spatialdata"
   ]
  },
  {
   "cell_type": "code",
   "execution_count": 5,
   "metadata": {},
   "outputs": [],
   "source": [
    "from spatialdata.models import TableModel, ShapesModel\n",
    "from anndata import AnnData\n",
    "import numpy as np\n",
    "from spatialdata import SpatialData"
   ]
  },
  {
   "cell_type": "code",
   "execution_count": 6,
   "metadata": {},
   "outputs": [
    {
     "name": "stderr",
     "output_type": "stream",
     "text": [
      "/home/dbdimitrov/anaconda3/envs/spatialdata/lib/python3.10/site-packages/spatialdata/models/models.py:725: FutureWarning: is_categorical_dtype is deprecated and will be removed in a future version. Use isinstance(dtype, CategoricalDtype) instead\n",
      "  if not is_categorical_dtype(adata.obs[region_key]):\n",
      "/tmp/ipykernel_162779/2469090241.py:8: UserWarning: Converting `region_key: region` to categorical dtype.\n",
      "  mdata = TableModel.parse(mdata, region=['msi', 'rna'], region_key='region', instance_key='instance_id')\n"
     ]
    }
   ],
   "source": [
    "# shapes \n",
    "rna_locations = ShapesModel.parse(rna_pos, geometry=0, radius=1)\n",
    "msi_locations = ShapesModel.parse(msi_pos, geometry=0, radius=1)\n",
    "\n",
    "mdata.obs['region'] = (['rna'] * rna_pos.shape[0] + ['msi'] * msi_pos.shape[0]).copy()\n",
    "mdata.obs['instance_id'] = mdata.obs.index\n",
    "\n",
    "mdata = TableModel.parse(mdata, region=['msi', 'rna'], region_key='region', instance_key='instance_id')\n",
    "sdata = SpatialData(shapes={'msi':msi_locations, 'rna':rna_locations}, table=mdata)"
   ]
  },
  {
   "cell_type": "code",
   "execution_count": 8,
   "metadata": {},
   "outputs": [
    {
     "data": {
      "text/html": [
       "<pre>MuData object with n_obs × n_vars = 6125 × 33823\n",
       "  obs:\t&#x27;region&#x27;, &#x27;instance_id&#x27;\n",
       "  uns:\t&#x27;spatialdata_attrs&#x27;\n",
       "  2 modalities\n",
       "    rna:\t3120 x 32285\n",
       "      obs:\t&#x27;in_tissue&#x27;, &#x27;array_row&#x27;, &#x27;array_col&#x27;, &#x27;x&#x27;, &#x27;y&#x27;, &#x27;lesion&#x27;, &#x27;region&#x27;\n",
       "      var:\t&#x27;gene_ids&#x27;, &#x27;feature_types&#x27;, &#x27;genome&#x27;\n",
       "      uns:\t&#x27;spatial&#x27;\n",
       "      obsm:\t&#x27;spatial&#x27;\n",
       "    msi:\t3005 x 1538\n",
       "      obs:\t&#x27;leiden&#x27;, &#x27;array_row&#x27;, &#x27;array_col&#x27;, &#x27;x&#x27;, &#x27;y&#x27;\n",
       "      var:\t&#x27;mean&#x27;, &#x27;std&#x27;\n",
       "      uns:\t&#x27;leiden_colors&#x27;, &#x27;spatial&#x27;\n",
       "      obsm:\t&#x27;X_pca&#x27;, &#x27;spatial&#x27;\n",
       "      varm:\t&#x27;PCs&#x27;\n",
       "      obsp:\t&#x27;connectivities&#x27;, &#x27;distances&#x27;</pre>"
      ],
      "text/plain": [
       "MuData object with n_obs × n_vars = 6125 × 33823\n",
       "  obs:\t'region', 'instance_id'\n",
       "  uns:\t'spatialdata_attrs'\n",
       "  2 modalities\n",
       "    rna:\t3120 x 32285\n",
       "      obs:\t'in_tissue', 'array_row', 'array_col', 'x', 'y', 'lesion', 'region'\n",
       "      var:\t'gene_ids', 'feature_types', 'genome'\n",
       "      uns:\t'spatial'\n",
       "      obsm:\t'spatial'\n",
       "    msi:\t3005 x 1538\n",
       "      obs:\t'leiden', 'array_row', 'array_col', 'x', 'y'\n",
       "      var:\t'mean', 'std'\n",
       "      uns:\t'leiden_colors', 'spatial'\n",
       "      obsm:\t'X_pca', 'spatial'\n",
       "      varm:\t'PCs'\n",
       "      obsp:\t'connectivities', 'distances'"
      ]
     },
     "execution_count": 8,
     "metadata": {},
     "output_type": "execute_result"
    }
   ],
   "source": [
    "sdata.table"
   ]
  },
  {
   "cell_type": "code",
   "execution_count": 10,
   "metadata": {},
   "outputs": [
    {
     "data": {
      "text/plain": [
       "{'msi':                          geometry  radius\n",
       " 0      POINT (14461.525 5784.610)       1\n",
       " 1      POINT (13883.064 5784.610)       1\n",
       " 2      POINT (13304.603 5784.610)       1\n",
       " 3      POINT (16196.908 6363.071)       1\n",
       " 4      POINT (15618.447 6363.071)       1\n",
       " ...                           ...     ...\n",
       " 3000  POINT (31236.893 41649.191)       1\n",
       " 3001  POINT (30658.432 41649.191)       1\n",
       " 3002  POINT (30079.971 41649.191)       1\n",
       " 3003  POINT (29501.510 41649.191)       1\n",
       " 3004  POINT (28923.049 41649.191)       1\n",
       " \n",
       " [3005 rows x 2 columns],\n",
       " 'rna':                          geometry  radius\n",
       " 0     POINT (34740.000 30651.000)       1\n",
       " 1      POINT (7784.000 27046.000)       1\n",
       " 2     POINT (33275.000 36197.000)       1\n",
       " 3     POINT (38516.000 28139.000)       1\n",
       " 4     POINT (41113.000 32686.000)       1\n",
       " ...                           ...     ...\n",
       " 3115  POINT (23757.000 17504.000)       1\n",
       " 3116   POINT (6074.000 15942.000)       1\n",
       " 3117  POINT (27517.000 21045.000)       1\n",
       " 3118  POINT (13000.000 28069.000)       1\n",
       " 3119   POINT (20011.000 8917.000)       1\n",
       " \n",
       " [3120 rows x 2 columns]}"
      ]
     },
     "execution_count": 10,
     "metadata": {},
     "output_type": "execute_result"
    }
   ],
   "source": [
    "sdata.shapes"
   ]
  },
  {
   "cell_type": "code",
   "execution_count": 14,
   "metadata": {},
   "outputs": [
    {
     "ename": "NodeNotFound",
     "evalue": "source node rna not in graph",
     "output_type": "error",
     "traceback": [
      "\u001b[0;31m---------------------------------------------------------------------------\u001b[0m",
      "\u001b[0;31mNodeNotFound\u001b[0m                              Traceback (most recent call last)",
      "Cell \u001b[0;32mIn[14], line 1\u001b[0m\n\u001b[0;32m----> 1\u001b[0m sd\u001b[39m.\u001b[39;49mtransformations\u001b[39m.\u001b[39;49mget_transformation_between_coordinate_systems(sdata, \u001b[39m'\u001b[39;49m\u001b[39mrna\u001b[39;49m\u001b[39m'\u001b[39;49m, \u001b[39m'\u001b[39;49m\u001b[39mmsi\u001b[39;49m\u001b[39m'\u001b[39;49m)\n",
      "File \u001b[0;32m~/anaconda3/envs/spatialdata/lib/python3.10/site-packages/spatialdata/transformations/operations.py:259\u001b[0m, in \u001b[0;36mget_transformation_between_coordinate_systems\u001b[0;34m(sdata, source_coordinate_system, target_coordinate_system, intermediate_coordinate_systems)\u001b[0m\n\u001b[1;32m    257\u001b[0m     \u001b[39massert\u001b[39;00m \u001b[39misinstance\u001b[39m(target_coordinate_system, \u001b[39mstr\u001b[39m)\n\u001b[1;32m    258\u001b[0m     tgt_node \u001b[39m=\u001b[39m target_coordinate_system\n\u001b[0;32m--> 259\u001b[0m paths \u001b[39m=\u001b[39m \u001b[39mlist\u001b[39m(nx\u001b[39m.\u001b[39;49mall_simple_paths(g, source\u001b[39m=\u001b[39;49msrc_node, target\u001b[39m=\u001b[39;49mtgt_node))\n\u001b[1;32m    260\u001b[0m \u001b[39mif\u001b[39;00m \u001b[39mlen\u001b[39m(paths) \u001b[39m==\u001b[39m \u001b[39m0\u001b[39m:\n\u001b[1;32m    261\u001b[0m     \u001b[39m# error 0 (we refer to this in the tests)\u001b[39;00m\n\u001b[1;32m    262\u001b[0m     \u001b[39mraise\u001b[39;00m \u001b[39mRuntimeError\u001b[39;00m(\u001b[39m\"\u001b[39m\u001b[39mNo path found between the two coordinate systems\u001b[39m\u001b[39m\"\u001b[39m)\n",
      "File \u001b[0;32m~/anaconda3/envs/spatialdata/lib/python3.10/site-packages/networkx/algorithms/simple_paths.py:245\u001b[0m, in \u001b[0;36mall_simple_paths\u001b[0;34m(G, source, target, cutoff)\u001b[0m\n\u001b[1;32m     95\u001b[0m \u001b[39m\u001b[39m\u001b[39m\"\"\"Generate all simple paths in the graph G from source to target.\u001b[39;00m\n\u001b[1;32m     96\u001b[0m \n\u001b[1;32m     97\u001b[0m \u001b[39mA simple path is a path with no repeated nodes.\u001b[39;00m\n\u001b[0;32m   (...)\u001b[0m\n\u001b[1;32m    242\u001b[0m \n\u001b[1;32m    243\u001b[0m \u001b[39m\"\"\"\u001b[39;00m\n\u001b[1;32m    244\u001b[0m \u001b[39mif\u001b[39;00m source \u001b[39mnot\u001b[39;00m \u001b[39min\u001b[39;00m G:\n\u001b[0;32m--> 245\u001b[0m     \u001b[39mraise\u001b[39;00m nx\u001b[39m.\u001b[39mNodeNotFound(\u001b[39mf\u001b[39m\u001b[39m\"\u001b[39m\u001b[39msource node \u001b[39m\u001b[39m{\u001b[39;00msource\u001b[39m}\u001b[39;00m\u001b[39m not in graph\u001b[39m\u001b[39m\"\u001b[39m)\n\u001b[1;32m    246\u001b[0m \u001b[39mif\u001b[39;00m target \u001b[39min\u001b[39;00m G:\n\u001b[1;32m    247\u001b[0m     targets \u001b[39m=\u001b[39m {target}\n",
      "\u001b[0;31mNodeNotFound\u001b[0m: source node rna not in graph"
     ]
    }
   ],
   "source": [
    "sd.transformations.get_transformation_between_coordinate_systems(sdata, 'rna', 'msi')"
   ]
  },
  {
   "cell_type": "code",
   "execution_count": null,
   "metadata": {},
   "outputs": [],
   "source": []
  }
 ],
 "metadata": {
  "kernelspec": {
   "display_name": "spatialdata",
   "language": "python",
   "name": "python3"
  },
  "language_info": {
   "codemirror_mode": {
    "name": "ipython",
    "version": 3
   },
   "file_extension": ".py",
   "mimetype": "text/x-python",
   "name": "python",
   "nbconvert_exporter": "python",
   "pygments_lexer": "ipython3",
   "version": "3.10.12"
  },
  "orig_nbformat": 4
 },
 "nbformat": 4,
 "nbformat_minor": 2
}
